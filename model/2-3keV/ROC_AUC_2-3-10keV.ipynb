{
 "cells": [
  {
   "cell_type": "code",
   "execution_count": 1,
   "metadata": {},
   "outputs": [
    {
     "name": "stderr",
     "output_type": "stream",
     "text": [
      "Using TensorFlow backend.\n"
     ]
    }
   ],
   "source": [
    "from keras.models import load_model\n",
    "from sklearn.metrics import roc_curve\n",
    "from sklearn.metrics import auc\n",
    "from sklearn.metrics import roc_auc_score\n",
    "import numpy as np\n",
    "import matplotlib.pyplot as plt\n",
    "import tensorflow as tf\n",
    "from keras import backend as K\n",
    "K.clear_session()\n",
    "config = tf.ConfigProto(gpu_options=tf.GPUOptions(allow_growth=True))\n",
    "sess = tf.Session(config=config)\n",
    "K.set_session(sess)"
   ]
  },
  {
   "cell_type": "code",
   "execution_count": 2,
   "metadata": {},
   "outputs": [
    {
     "name": "stdout",
     "output_type": "stream",
     "text": [
      "WARNING:tensorflow:From /home/tsato/anaconda3/envs/tensorflow/lib/python3.6/site-packages/tensorflow/python/framework/op_def_library.py:263: colocate_with (from tensorflow.python.framework.ops) is deprecated and will be removed in a future version.\n",
      "Instructions for updating:\n",
      "Colocations handled automatically by placer.\n",
      "WARNING:tensorflow:From /home/tsato/anaconda3/envs/tensorflow/lib/python3.6/site-packages/keras/backend/tensorflow_backend.py:3445: calling dropout (from tensorflow.python.ops.nn_ops) with keep_prob is deprecated and will be removed in a future version.\n",
      "Instructions for updating:\n",
      "Please use `rate` instead of `keep_prob`. Rate should be set to `rate = 1 - keep_prob`.\n",
      "WARNING:tensorflow:From /home/tsato/anaconda3/envs/tensorflow/lib/python3.6/site-packages/tensorflow/python/ops/math_ops.py:3066: to_int32 (from tensorflow.python.ops.math_ops) is deprecated and will be removed in a future version.\n",
      "Instructions for updating:\n",
      "Use tf.cast instead.\n"
     ]
    }
   ],
   "source": [
    "#モデルの読み込み\n",
    "model_file_2_3keV='/home/tsato/work/machine_learning/CNN/1orbit/2-3keV_5000/model_.09-0.07.hdf5'\n",
    "model_2_3keV=load_model(model_file_2_3keV)\n",
    "model_file_3_10keV='/home/tsato/work/machine_learning/CNN/1orbit/3-10keV_5000/model_.05-0.04.hdf5'\n",
    "model_3_10keV=load_model(model_file_3_10keV)"
   ]
  },
  {
   "cell_type": "code",
   "execution_count": null,
   "metadata": {},
   "outputs": [],
   "source": [
    "\"\"\"\n",
    "2-3keVで判定をおこなう\n",
    "\n",
    "\"\"\""
   ]
  },
  {
   "cell_type": "code",
   "execution_count": 3,
   "metadata": {},
   "outputs": [],
   "source": [
    "import os\n",
    "flare_dir_2_3keV='/home/tsato/work/machine_learning/CNN/images/1orbit/2-3keV_5000/test/flare'\n",
    "flare_images_2_3keV = os.listdir(flare_dir_2_3keV)\n"
   ]
  },
  {
   "cell_type": "code",
   "execution_count": 4,
   "metadata": {},
   "outputs": [],
   "source": [
    "#評価\n",
    "from keras.preprocessing.image import img_to_array, load_img\n",
    "import pandas as pd\n",
    "\n",
    "df = []\n",
    "for jpeg_name in flare_images_2_3keV:\n",
    "    img_path = (jpeg_name)\n",
    "    img = img_to_array(load_img(flare_dir_2_3keV + '/' + img_path, target_size=(32,32)).convert('L'))\n",
    "    img_nad = img_to_array(img)/255    #0-1に変換\n",
    "    img_nad = img_nad[None, ...]    #四次元配列に\n",
    "    label=['0','1']\n",
    "    pred = model_2_3keV.predict(img_nad, batch_size=1, verbose=0)\n",
    "    pred_label = label[np.argmax(pred[0])]\n",
    "    #score = pd.DataFrame(pred)\n",
    "    score = np.max(pred)\n",
    "    a=jpeg_name.split(\"_\")\n",
    "    list=[int(a[0]),jpeg_name,1,pred[0][0],pred[0][1],pred_label]\n",
    "    df.append(list)\n",
    "result = pd.DataFrame(df)\n",
    "result = result.sort_values([0])\n",
    "result = result.reset_index(drop=True)\n",
    "result = result.iloc[:,1:6]\n",
    "flare_result_2_3keV=result"
   ]
  },
  {
   "cell_type": "code",
   "execution_count": 5,
   "metadata": {},
   "outputs": [],
   "source": [
    "bgd_dir_2_3keV='/home/tsato/work/machine_learning/CNN/images/1orbit/2-3keV_5000/test/background/'\n",
    "bgd_images_2_3keV = os.listdir(bgd_dir_2_3keV)"
   ]
  },
  {
   "cell_type": "code",
   "execution_count": 6,
   "metadata": {},
   "outputs": [],
   "source": [
    "df = []\n",
    "for jpeg_name in bgd_images_2_3keV:\n",
    "    img_path = (jpeg_name)\n",
    "    img = img_to_array(load_img(bgd_dir_2_3keV + '/' + img_path, target_size=(32,32)).convert('L'))\n",
    "    img_nad = img_to_array(img)/255    #0-1に変換\n",
    "    img_nad = img_nad[None, ...]    #四次元配列に\n",
    "    label=['0','1']\n",
    "    pred = model_2_3keV.predict(img_nad, batch_size=1, verbose=0)\n",
    "    pred_label = label[np.argmax(pred[0])]\n",
    "    #score = pd.DataFrame(pred)\n",
    "    score = np.max(pred)\n",
    "    a=jpeg_name.split(\"_\")\n",
    "    #list=[int(a[0]),jpeg_name,pred_label,score]  \n",
    "    list=[int(a[0]),jpeg_name,0,pred[0][0],pred[0][1],pred_label]\n",
    "    df.append(list)\n",
    "result = pd.DataFrame(df)\n",
    "result = result.sort_values([0])\n",
    "result = result.reset_index(drop=True)\n",
    "result = result.iloc[:,1:6]\n",
    "bgd_result_2_3keV=result"
   ]
  },
  {
   "cell_type": "code",
   "execution_count": null,
   "metadata": {},
   "outputs": [],
   "source": [
    "\"\"\"\n",
    "3-10keVで判定をおこなう\n",
    "\n",
    "\"\"\""
   ]
  },
  {
   "cell_type": "code",
   "execution_count": 7,
   "metadata": {},
   "outputs": [],
   "source": [
    "flare_dir_3_10keV='/home/tsato/work/machine_learning/CNN/images/1orbit/3-10keV_5000/test/flare'\n",
    "flare_images_3_10keV = os.listdir(flare_dir_3_10keV)"
   ]
  },
  {
   "cell_type": "code",
   "execution_count": 8,
   "metadata": {},
   "outputs": [],
   "source": [
    "#評価\n",
    "from keras.preprocessing.image import img_to_array, load_img\n",
    "import pandas as pd\n",
    "\n",
    "df = []\n",
    "for jpeg_name in flare_images_3_10keV:\n",
    "    img_path = (jpeg_name)\n",
    "    img = img_to_array(load_img(flare_dir_3_10keV + '/' + img_path, target_size=(32,32)).convert('L'))\n",
    "    img_nad = img_to_array(img)/255    #0-1に変換\n",
    "    img_nad = img_nad[None, ...]    #四次元配列に\n",
    "    label=['0','1']\n",
    "    pred = model_3_10keV.predict(img_nad, batch_size=1, verbose=0)\n",
    "    pred_label = label[np.argmax(pred[0])]\n",
    "    #score = pd.DataFrame(pred)\n",
    "    score = np.max(pred)\n",
    "    a=jpeg_name.split(\"_\")\n",
    "    list=[int(a[0]),jpeg_name,1,pred[0][0],pred[0][1],pred_label]\n",
    "    df.append(list)\n",
    "result = pd.DataFrame(df)\n",
    "result = result.sort_values([0])\n",
    "result = result.reset_index(drop=True)\n",
    "result = result.iloc[:,1:6]\n",
    "flare_result_3_10keV=result"
   ]
  },
  {
   "cell_type": "code",
   "execution_count": 9,
   "metadata": {},
   "outputs": [],
   "source": [
    "bgd_dir_3_10keV='/home/tsato/work/machine_learning/CNN/images/1orbit/3-10keV_5000/test/background/'\n",
    "bgd_images_3_10keV = os.listdir(bgd_dir_3_10keV)"
   ]
  },
  {
   "cell_type": "code",
   "execution_count": 10,
   "metadata": {},
   "outputs": [],
   "source": [
    "df = []\n",
    "for jpeg_name in bgd_images_3_10keV:\n",
    "    img_path = (jpeg_name)\n",
    "    img = img_to_array(load_img(bgd_dir_3_10keV + '/' + img_path, target_size=(32,32)).convert('L'))\n",
    "    img_nad = img_to_array(img)/255    #0-1に変換\n",
    "    img_nad = img_nad[None, ...]    #四次元配列に\n",
    "    label=['0','1']\n",
    "    pred = model_3_10keV.predict(img_nad, batch_size=1, verbose=0)\n",
    "    pred_label = label[np.argmax(pred[0])]\n",
    "    #score = pd.DataFrame(pred)\n",
    "    score = np.max(pred)\n",
    "    a=jpeg_name.split(\"_\")\n",
    "    #list=[int(a[0]),jpeg_name,pred_label,score]  \n",
    "    list=[int(a[0]),jpeg_name,0,pred[0][0],pred[0][1],pred_label]\n",
    "    df.append(list)\n",
    "result = pd.DataFrame(df)\n",
    "result = result.sort_values([0])\n",
    "result = result.reset_index(drop=True)\n",
    "result = result.iloc[:,1:6]\n",
    "bgd_result_3_10keV=result"
   ]
  },
  {
   "cell_type": "code",
   "execution_count": 11,
   "metadata": {
    "scrolled": true
   },
   "outputs": [],
   "source": [
    "flare_result=pd.concat([flare_result_2_3keV,flare_result_3_10keV])"
   ]
  },
  {
   "cell_type": "code",
   "execution_count": 12,
   "metadata": {},
   "outputs": [],
   "source": [
    "bgd_result=pd.concat([bgd_result_2_3keV,bgd_result_3_10keV])"
   ]
  },
  {
   "cell_type": "code",
   "execution_count": 13,
   "metadata": {},
   "outputs": [],
   "source": [
    "#0=bgd,1=flare\n",
    "b_true = bgd_result[2].to_numpy()\n",
    "f_true = flare_result[2].to_numpy()\n",
    "true=np.hstack((b_true, f_true))\n",
    "b_score = bgd_result[4].to_numpy()\n",
    "f_score = flare_result[4].to_numpy()\n",
    "score=np.hstack((b_score, f_score))"
   ]
  },
  {
   "cell_type": "code",
   "execution_count": 14,
   "metadata": {},
   "outputs": [],
   "source": [
    "from sklearn.metrics import roc_curve\n",
    "roc = roc_curve(true, score)\n",
    "fpr, tpr, thresholds = roc_curve(true, score)"
   ]
  },
  {
   "cell_type": "code",
   "execution_count": 15,
   "metadata": {},
   "outputs": [
    {
     "data": {
      "image/png": "[encoded data removed]",
      "text/plain": [
       "<Figure size 432x288 with 1 Axes>"
      ]
     },
     "metadata": {
      "needs_background": "light"
     },
     "output_type": "display_data"
    }
   ],
   "source": [
    "plt.plot(fpr, tpr, marker='o')\n",
    "plt.xlabel('FPR: False positive rate')\n",
    "plt.ylabel('TPR: True positive rate')\n",
    "plt.grid()\n",
    "#plt.savefig('data/dst/sklearn_roc_curve.png')"
   ]
  },
  {
   "cell_type": "code",
   "execution_count": 53,
   "metadata": {},
   "outputs": [
    {
     "data": {
      "image/png": "[encoded data removed]",
      "text/plain": [
       "<Figure size 432x288 with 1 Axes>"
      ]
     },
     "metadata": {
      "needs_background": "light"
     },
     "output_type": "display_data"
    }
   ],
   "source": [
    "fpr_all, tpr_all, thresholds_all = roc_curve(true, score,\n",
    "                                             drop_intermediate=False)\n",
    "plt.plot(fpr_all, tpr_all, marker='',ls=\"-\",linewidth = 4.0)\n",
    "plt.xlabel('False positive rate',fontsize=18)\n",
    "plt.ylabel('True positive rate',fontsize=18)\n",
    "\n",
    "plt.tick_params(labelsize=15)\n",
    "plt.grid()\n",
    "plt.tight_layout()\n",
    "\n",
    "plt.savefig('roc.png')"
   ]
  },
  {
   "cell_type": "code",
   "execution_count": 17,
   "metadata": {},
   "outputs": [
    {
     "name": "stdout",
     "output_type": "stream",
     "text": [
      "0.9972807499999999\n",
      "0.9972807499999999\n"
     ]
    }
   ],
   "source": [
    "from sklearn import metrics\n",
    "auc = metrics.roc_auc_score(true, score)\n",
    "print(auc)\n",
    "\n",
    "#fpr, tpr, thresholds = metrics.roc_curve(list_label, list_score)\n",
    "auc = metrics.auc(fpr_all, tpr_all)\n",
    "print(auc)"
   ]
  },
  {
   "cell_type": "code",
   "execution_count": 18,
   "metadata": {},
   "outputs": [
    {
     "name": "stdout",
     "output_type": "stream",
     "text": [
      "0.8385\n",
      "0.9970273483947681\n",
      "0.9109179793590441\n"
     ]
    }
   ],
   "source": [
    "#recall\n",
    "from sklearn.metrics import recall_score\n",
    "print(recall_score(true, score >= 0.99))\n",
    "#precision\n",
    "from sklearn.metrics import precision_score\n",
    "print(precision_score(true, score >=0.99))\n",
    "#f-score\n",
    "from sklearn.metrics import f1_score\n",
    "print(f1_score(true,score >=0.99))"
   ]
  },
  {
   "cell_type": "code",
   "execution_count": 33,
   "metadata": {},
   "outputs": [],
   "source": [
    "Prob_bgd=bgd_result.iloc[:,3]\n",
    "Prob_flare=flare_result.iloc[:,3]\n",
    "import matplotlib.pyplot as plt"
   ]
  },
  {
   "cell_type": "code",
   "execution_count": 37,
   "metadata": {},
   "outputs": [
    {
     "data": {
      "image/png": "[encoded data removed]",
      "text/plain": [
       "<Figure size 432x288 with 1 Axes>"
      ]
     },
     "metadata": {
      "needs_background": "light"
     },
     "output_type": "display_data"
    }
   ],
   "source": [
    "plt.hist([Prob_bgd,Prob_flare],bins=30,stacked=True)\n",
    "plt.grid(True)\n",
    "plt.gca().set_yscale(\"log\")\n",
    "plt.tick_params(labelsize=13)\n",
    "plt.xlabel('probability',size=13)\n",
    "plt.ylabel('number',size=13)\n",
    "plt.savefig('hist.png')"
   ]
  },
  {
   "cell_type": "code",
   "execution_count": 21,
   "metadata": {},
   "outputs": [
    {
     "data": {
      "text/plain": [
       "'/home/tsato/work/machine_learning/CNN/images/1orbit/2-3keV_5000/test/background/'"
      ]
     },
     "execution_count": 21,
     "metadata": {},
     "output_type": "execute_result"
    }
   ],
   "source": []
  }
 ],
 "metadata": {
  "kernelspec": {
   "display_name": "Python 3",
   "language": "python",
   "name": "python3"
  },
  "language_info": {
   "codemirror_mode": {
    "name": "ipython",
    "version": 3
   },
   "file_extension": ".py",
   "mimetype": "text/x-python",
   "name": "python",
   "nbconvert_exporter": "python",
   "pygments_lexer": "ipython3",
   "version": "3.6.8"
  }
 },
 "nbformat": 4,
 "nbformat_minor": 2
}

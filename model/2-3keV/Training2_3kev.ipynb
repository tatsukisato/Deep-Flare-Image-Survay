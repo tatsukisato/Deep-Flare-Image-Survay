{
 "cells": [
  {
   "cell_type": "code",
   "execution_count": 1,
   "metadata": {},
   "outputs": [
    {
     "name": "stderr",
     "output_type": "stream",
     "text": [
      "Using TensorFlow backend.\n"
     ]
    }
   ],
   "source": [
    "#GPUを使用\n",
    "import tensorflow as tf\n",
    "from keras import backend as K\n",
    "#ネットワーク定義\n",
    "from keras.models import Sequential, Model\n",
    "from keras.layers import Dense, Dropout, Activation, Flatten\n",
    "from keras.layers import Conv2D, MaxPooling2D\n",
    "from keras import optimizers\n",
    "K.clear_session()\n",
    "config = tf.ConfigProto(gpu_options=tf.GPUOptions(allow_growth=True))\n",
    "sess = tf.Session(config=config)\n",
    "K.set_session(sess)"
   ]
  },
  {
   "cell_type": "code",
   "execution_count": 2,
   "metadata": {},
   "outputs": [],
   "source": [
    "num_classes = 2\n",
    "img_height, img_width = 32 , 32\n",
    "http://localhost:8948/notebooks/1orbit_2-3keV.ipynb#\n",
    "#モデル\n",
    "def Mynet():\n",
    "    model = Sequential()\n",
    "    model.add(Conv2D(280, (2, 2), padding='same', activation='relu',input_shape=(img_height, img_width, 1)))\n",
    "    #model.add(Activation('relu'))\n",
    "    model.add(Conv2D(976, (2, 2), padding='same', activation='relu'))\n",
    "    #model.add(Activation('relu'))\n",
    "    model.add(Conv2D(168, (2, 2), padding='same', activation='relu'))\n",
    "    #model.add(Activation('relu'))\n",
    "    model.add(Conv2D(224, (2, 2), padding='same', activation='relu'))\n",
    "    #model.add(Activation('relu'))\n",
    "    model.add(Conv2D(48, (2, 2), padding='same', activation='relu'))\n",
    "    model.add(Conv2D(32, (2, 2), padding='same', activation='relu'))\n",
    "    model.add(Conv2D(688, (2, 2), padding='same', activation='relu'))\n",
    "    model.add(MaxPooling2D(pool_size=(2, 2)))\n",
    "    model.add(Dropout(rate=0.2416885539013352))\n",
    "    model.add(Flatten())\n",
    "    model.add(Dense(500))\n",
    "    model.add(Dense(num_classes,activation='softmax'))\n",
    "    #model.add(Activation('softmax'))\n",
    "    return model"
   ]
  },
  {
   "cell_type": "code",
   "execution_count": 3,
   "metadata": {},
   "outputs": [
    {
     "name": "stdout",
     "output_type": "stream",
     "text": [
      "WARNING:tensorflow:From /home/tsato/anaconda3/envs/tensorflow/lib/python3.6/site-packages/tensorflow/python/framework/op_def_library.py:263: colocate_with (from tensorflow.python.framework.ops) is deprecated and will be removed in a future version.\n",
      "Instructions for updating:\n",
      "Colocations handled automatically by placer.\n",
      "WARNING:tensorflow:From /home/tsato/anaconda3/envs/tensorflow/lib/python3.6/site-packages/keras/backend/tensorflow_backend.py:3445: calling dropout (from tensorflow.python.ops.nn_ops) with keep_prob is deprecated and will be removed in a future version.\n",
      "Instructions for updating:\n",
      "Please use `rate` instead of `keep_prob`. Rate should be set to `rate = 1 - keep_prob`.\n"
     ]
    }
   ],
   "source": [
    "#学習の準備\n",
    "model = Mynet()\n",
    "for layer in model.layers:\n",
    "    layer.trainable = True\n",
    "    \n",
    "\n",
    "# モデルのサマリを表示\n",
    "from keras.utils import plot_model\n",
    "#model.summary()\n",
    "#plot_model(model, show_shapes=True, show_layer_names=True, to_file='model.png')\n"
   ]
  },
  {
   "cell_type": "code",
   "execution_count": 4,
   "metadata": {},
   "outputs": [
    {
     "name": "stdout",
     "output_type": "stream",
     "text": [
      "_________________________________________________________________\n",
      "Layer (type)                 Output Shape              Param #   \n",
      "=================================================================\n",
      "conv2d_1 (Conv2D)            (None, 32, 32, 280)       1400      \n",
      "_________________________________________________________________\n",
      "conv2d_2 (Conv2D)            (None, 32, 32, 976)       1094096   \n",
      "_________________________________________________________________\n",
      "conv2d_3 (Conv2D)            (None, 32, 32, 168)       656040    \n",
      "_________________________________________________________________\n",
      "conv2d_4 (Conv2D)            (None, 32, 32, 224)       150752    \n",
      "_________________________________________________________________\n",
      "conv2d_5 (Conv2D)            (None, 32, 32, 48)        43056     \n",
      "_________________________________________________________________\n",
      "conv2d_6 (Conv2D)            (None, 32, 32, 32)        6176      \n",
      "_________________________________________________________________\n",
      "conv2d_7 (Conv2D)            (None, 32, 32, 688)       88752     \n",
      "_________________________________________________________________\n",
      "max_pooling2d_1 (MaxPooling2 (None, 16, 16, 688)       0         \n",
      "_________________________________________________________________\n",
      "dropout_1 (Dropout)          (None, 16, 16, 688)       0         \n",
      "_________________________________________________________________\n",
      "flatten_1 (Flatten)          (None, 176128)            0         \n",
      "_________________________________________________________________\n",
      "dense_1 (Dense)              (None, 500)               88064500  \n",
      "_________________________________________________________________\n",
      "dense_2 (Dense)              (None, 2)                 1002      \n",
      "=================================================================\n",
      "Total params: 90,105,774\n",
      "Trainable params: 90,105,774\n",
      "Non-trainable params: 0\n",
      "_________________________________________________________________\n"
     ]
    }
   ],
   "source": [
    "#参考：https://keras.io/ja/optimizers/\n",
    "#modelのコンパイル\n",
    "#loss:損失関数、optimaizer:最適化アルゴリスム、metrics:評価関数\n",
    "#RMSprop=RMSprop(lr=0.001, rho=0.9, epsilon=None, decay=0.0)\n",
    "model.compile(loss='categorical_crossentropy',\n",
    "              optimizer=optimizers.adam(lr=3.9359465144288606e-05),\n",
    "              metrics=['accuracy'])\n",
    "model.summary()"
   ]
  },
  {
   "cell_type": "code",
   "execution_count": 5,
   "metadata": {},
   "outputs": [
    {
     "name": "stdout",
     "output_type": "stream",
     "text": [
      "(10000, 32, 32, 1) (10000, 2)\n",
      "(2000, 32, 32, 1) (2000, 2)\n"
     ]
    }
   ],
   "source": [
    "###学習用のデータを作る###\n",
    "#numpy配列のデータ(image,label)#\n",
    "##########################\n",
    "\n",
    "###学習用のデータを作る###\n",
    "import os\n",
    "import numpy as np\n",
    "from PIL import Image\n",
    "from keras.utils.np_utils import to_categorical \n",
    "\n",
    "train_dir = '/home/tsato/work/machine_learning/CNN/images/1orbit/2-3keV_5000/train/'\n",
    "validation_dir = '/home/tsato/work/machine_learning/CNN/images/1orbit/2-3keV_5000/validation/'\n",
    "train_image_list = []\n",
    "train_label_list = []\n",
    "validation_image_list = []\n",
    "validation_label_list = []\n",
    "\n",
    "\n",
    "for dir in os.listdir(train_dir):\n",
    "    if dir == \".DS_Store\":\n",
    "        continue\n",
    "    \n",
    "    dir1 = train_dir + dir \n",
    "    label = 0\n",
    "    \n",
    "    if dir == \"background\":\n",
    "        label = 0\n",
    "    elif dir == \"flare\":\n",
    "        label = 1\n",
    "    \n",
    "    for file in os.listdir(dir1):\n",
    "        if file != \".DS_Store\":\n",
    "            # 配列label_listに正解ラベルを追加\n",
    "            train_label_list.append(label)\n",
    "            filepath = dir1 + \"/\" + file\n",
    "            # 画像を32x32pixelに変換し、グレースケール配列の32x32の２次元配列として読み込む。\n",
    "            image = np.array(Image.open(filepath).convert('L').resize((32, 32)))\n",
    "            #print(filepath)\n",
    "            # 出来上がった配列をimage_listに追加。\n",
    "            train_image_list.append(image / 255.)\n",
    "            \n",
    "for dir in os.listdir(validation_dir):\n",
    "    if dir == \".DS_Store\":\n",
    "        continue    \n",
    "    dir1 = validation_dir + dir \n",
    "    label = 0    \n",
    "    if dir == \"background\":\n",
    "        label = 0\n",
    "    elif dir == \"flare\":\n",
    "        label = 1    \n",
    "    for file in os.listdir(dir1):\n",
    "        if file != \".DS_Store\":\n",
    "            validation_label_list.append(label)\n",
    "            filepath = dir1 + \"/\" + file\n",
    "            image = np.array(Image.open(filepath).convert('L').resize((32, 32)))\n",
    "            validation_image_list.append(image / 255.)\n",
    "\n",
    "# kerasに渡すためにnumpy配列に変換。\n",
    "train_image_list = np.array(train_image_list)\n",
    "train_image_list = train_image_list.reshape(-1,32,32,1)\n",
    "validation_image_list = np.array(validation_image_list)\n",
    "validation_image_list = validation_image_list.reshape(-1,32,32,1)\n",
    "\n",
    "# ラベルの配列を1と0からなるラベル配列に変更\n",
    "train_Y = to_categorical(train_label_list)\n",
    "validation_Y = to_categorical(validation_label_list)\n",
    "\n",
    "######\n",
    "print(train_image_list.shape,train_Y.shape)\n",
    "print(validation_image_list.shape,validation_Y.shape)"
   ]
  },
  {
   "cell_type": "code",
   "execution_count": null,
   "metadata": {
    "scrolled": false
   },
   "outputs": [
    {
     "name": "stdout",
     "output_type": "stream",
     "text": [
      "WARNING:tensorflow:From /home/tsato/anaconda3/envs/tensorflow/lib/python3.6/site-packages/tensorflow/python/ops/math_ops.py:3066: to_int32 (from tensorflow.python.ops.math_ops) is deprecated and will be removed in a future version.\n",
      "Instructions for updating:\n",
      "Use tf.cast instead.\n",
      "Train on 10000 samples, validate on 2000 samples\n",
      "Epoch 1/50\n",
      "10000/10000 [==============================] - 42s 4ms/step - loss: 0.1543 - acc: 0.9309 - val_loss: 0.1037 - val_acc: 0.9665\n",
      "\n",
      "Epoch 00001: val_loss improved from inf to 0.10371, saving model to ./model_.01-0.10.hdf5\n",
      "Epoch 2/50\n",
      "10000/10000 [==============================] - 35s 4ms/step - loss: 0.0938 - acc: 0.9667 - val_loss: 0.0851 - val_acc: 0.9725\n",
      "\n",
      "Epoch 00002: val_loss improved from 0.10371 to 0.08509, saving model to ./model_.02-0.09.hdf5\n",
      "Epoch 3/50\n",
      "10000/10000 [==============================] - 35s 4ms/step - loss: 0.0831 - acc: 0.9708 - val_loss: 0.0760 - val_acc: 0.9770\n",
      "\n",
      "Epoch 00003: val_loss improved from 0.08509 to 0.07600, saving model to ./model_.03-0.08.hdf5\n",
      "Epoch 4/50\n",
      "10000/10000 [==============================] - 35s 4ms/step - loss: 0.0763 - acc: 0.9725 - val_loss: 0.0925 - val_acc: 0.9675\n",
      "\n",
      "Epoch 00004: val_loss did not improve from 0.07600\n",
      "Epoch 5/50\n",
      "10000/10000 [==============================] - 35s 4ms/step - loss: 0.0688 - acc: 0.9744 - val_loss: 0.0790 - val_acc: 0.9765\n",
      "\n",
      "Epoch 00005: val_loss did not improve from 0.07600\n",
      "Epoch 6/50\n",
      "10000/10000 [==============================] - 35s 4ms/step - loss: 0.0641 - acc: 0.9776 - val_loss: 0.0996 - val_acc: 0.9665\n",
      "\n",
      "Epoch 00006: val_loss did not improve from 0.07600\n",
      "Epoch 7/50\n",
      "10000/10000 [==============================] - 35s 4ms/step - loss: 0.0570 - acc: 0.9809 - val_loss: 0.0758 - val_acc: 0.9755\n",
      "\n",
      "Epoch 00007: val_loss improved from 0.07600 to 0.07577, saving model to ./model_.07-0.08.hdf5\n",
      "Epoch 8/50\n",
      "10000/10000 [==============================] - 35s 4ms/step - loss: 0.0576 - acc: 0.9789 - val_loss: 0.0769 - val_acc: 0.9755\n",
      "\n",
      "Epoch 00008: val_loss did not improve from 0.07577\n",
      "Epoch 9/50\n",
      "10000/10000 [==============================] - 35s 4ms/step - loss: 0.0578 - acc: 0.9794 - val_loss: 0.0729 - val_acc: 0.9735\n",
      "\n",
      "Epoch 00009: val_loss improved from 0.07577 to 0.07291, saving model to ./model_.09-0.07.hdf5\n",
      "Epoch 10/50\n",
      "10000/10000 [==============================] - 35s 4ms/step - loss: 0.0542 - acc: 0.9801 - val_loss: 0.0766 - val_acc: 0.9745\n",
      "\n",
      "Epoch 00010: val_loss did not improve from 0.07291\n",
      "Epoch 11/50\n",
      "10000/10000 [==============================] - 36s 4ms/step - loss: 0.0480 - acc: 0.9819 - val_loss: 0.1072 - val_acc: 0.9650\n",
      "\n",
      "Epoch 00011: val_loss did not improve from 0.07291\n",
      "Epoch 12/50\n",
      "10000/10000 [==============================] - 35s 4ms/step - loss: 0.0535 - acc: 0.9796 - val_loss: 0.0822 - val_acc: 0.9765\n",
      "\n",
      "Epoch 00012: val_loss did not improve from 0.07291\n",
      "Epoch 13/50\n",
      "10000/10000 [==============================] - 35s 4ms/step - loss: 0.0488 - acc: 0.9813 - val_loss: 0.0820 - val_acc: 0.9720\n",
      "\n",
      "Epoch 00013: val_loss did not improve from 0.07291\n",
      "Epoch 14/50\n",
      "10000/10000 [==============================] - 36s 4ms/step - loss: 0.0473 - acc: 0.9823 - val_loss: 0.0857 - val_acc: 0.9705\n",
      "\n",
      "Epoch 00014: val_loss did not improve from 0.07291\n",
      "Epoch 15/50\n",
      "10000/10000 [==============================] - 35s 4ms/step - loss: 0.0411 - acc: 0.9860 - val_loss: 0.0831 - val_acc: 0.9710\n",
      "\n",
      "Epoch 00015: val_loss did not improve from 0.07291\n",
      "Epoch 16/50\n",
      "10000/10000 [==============================] - 35s 4ms/step - loss: 0.0387 - acc: 0.9857 - val_loss: 0.0910 - val_acc: 0.9680\n",
      "\n",
      "Epoch 00016: val_loss did not improve from 0.07291\n",
      "Epoch 17/50\n",
      "10000/10000 [==============================] - 35s 4ms/step - loss: 0.0384 - acc: 0.9859 - val_loss: 0.1086 - val_acc: 0.9705\n",
      "\n",
      "Epoch 00017: val_loss did not improve from 0.07291\n",
      "Epoch 18/50\n",
      "10000/10000 [==============================] - 35s 4ms/step - loss: 0.0364 - acc: 0.9863 - val_loss: 0.0937 - val_acc: 0.9705\n",
      "\n",
      "Epoch 00018: val_loss did not improve from 0.07291\n",
      "Epoch 19/50\n",
      " 1888/10000 [====>.........................] - ETA: 27s - loss: 0.0287 - acc: 0.9899"
     ]
    }
   ],
   "source": [
    "import keras\n",
    "from keras.callbacks import EarlyStopping,ModelCheckpoint\n",
    "\n",
    "es_cb = keras.callbacks.EarlyStopping(monitor='val_loss', patience=10, verbose=1, mode='auto')\n",
    "chkpt = os.path.join('./', 'model_.{epoch:02d}-{val_loss:.2f}.hdf5')\n",
    "cp_cb = ModelCheckpoint(filepath = chkpt, monitor='val_loss', verbose=1, save_best_only=True, mode='auto')\n",
    "\n",
    "history = model.fit(train_image_list,train_Y, verbose=1, epochs=50, batch_size=32, validation_data=(validation_image_list,validation_Y),callbacks=[es_cb,cp_cb])"
   ]
  },
  {
   "cell_type": "code",
   "execution_count": 8,
   "metadata": {},
   "outputs": [
    {
     "data": {
      "image/png": "[encoded data removed]",
      "text/plain": [
       "<Figure size 432x288 with 1 Axes>"
      ]
     },
     "metadata": {
      "needs_background": "light"
     },
     "output_type": "display_data"
    }
   ],
   "source": [
    "#学習軌跡の表示\n",
    "import numpy as np\n",
    "import matplotlib.pyplot as plt\n",
    "##Accuracy\n",
    "plt.plot(history.history['acc'])\n",
    "plt.plot(history.history['val_acc'])\n",
    "plt.title('model accuracy')\n",
    "plt.ylabel('accuracy')\n",
    "plt.xlabel('epoch')\n",
    "plt.legend(['train', 'test'], loc='upper left')\n",
    "plt.show()"
   ]
  },
  {
   "cell_type": "code",
   "execution_count": 9,
   "metadata": {},
   "outputs": [
    {
     "data": {
      "image/png": "[encoded data removed]",
      "text/plain": [
       "<Figure size 432x288 with 1 Axes>"
      ]
     },
     "metadata": {
      "needs_background": "light"
     },
     "output_type": "display_data"
    }
   ],
   "source": [
    "##loss\n",
    "plt.plot(history.history['loss'])\n",
    "plt.plot(history.history['val_loss'])\n",
    "plt.title('model loss')\n",
    "plt.ylabel('loss')\n",
    "plt.xlabel('epoch')\n",
    "plt.legend(['train', 'test'], loc='upper left')\n",
    "plt.show()"
   ]
  },
  {
   "cell_type": "code",
   "execution_count": null,
   "metadata": {},
   "outputs": [],
   "source": []
  }
 ],
 "metadata": {
  "kernelspec": {
   "display_name": "Python 3",
   "language": "python",
   "name": "python3"
  },
  "language_info": {
   "codemirror_mode": {
    "name": "ipython",
    "version": 3
   },
   "file_extension": ".py",
   "mimetype": "text/x-python",
   "name": "python",
   "nbconvert_exporter": "python",
   "pygments_lexer": "ipython3",
   "version": "3.6.8"
  }
 },
 "nbformat": 4,
 "nbformat_minor": 2
}

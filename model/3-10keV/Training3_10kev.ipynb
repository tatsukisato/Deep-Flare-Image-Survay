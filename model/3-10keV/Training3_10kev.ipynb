{
 "cells": [
  {
   "cell_type": "code",
   "execution_count": 6,
   "metadata": {},
   "outputs": [],
   "source": [
    "#GPUを使用\n",
    "import tensorflow as tf\n",
    "from keras import backend as K\n",
    "#ネットワーク定義\n",
    "from keras.models import Sequential, Model\n",
    "from keras.layers import Dense, Dropout, Activation, Flatten\n",
    "from keras.layers import Conv2D, MaxPooling2D\n",
    "from keras import optimizers\n",
    "K.clear_session()\n",
    "config = tf.ConfigProto(gpu_options=tf.GPUOptions(allow_growth=True))\n",
    "sess = tf.Session(config=config)\n",
    "K.set_session(sess)"
   ]
  },
  {
   "cell_type": "code",
   "execution_count": 7,
   "metadata": {},
   "outputs": [],
   "source": [
    "num_classes = 2\n",
    "img_height, img_width = 32 , 32\n",
    "\n",
    "#モデル\n",
    "def Mynet():\n",
    "    model = Sequential()\n",
    "    model.add(Conv2D(520, (3, 3), padding='same', activation='relu',input_shape=(img_height, img_width, 1)))\n",
    "    model.add(Conv2D(864, (3, 3), padding='same', activation='relu'))\n",
    "    model.add(Conv2D(928, (3, 3), padding='same', activation='relu'))\n",
    "    model.add(MaxPooling2D(pool_size=(2, 2)))\n",
    "    model.add(Dropout(0.05560965547247765))\n",
    "    model.add(Flatten())\n",
    "    model.add(Dense(480))\n",
    "    model.add(Dense(num_classes,activation='softmax'))\n",
    "    return model"
   ]
  },
  {
   "cell_type": "code",
   "execution_count": 8,
   "metadata": {},
   "outputs": [],
   "source": [
    "#学習の準備\n",
    "model = Mynet()\n",
    "for layer in model.layers:\n",
    "    layer.trainable = True\n",
    "    \n",
    "\n",
    "# モデルのサマリを表示\n",
    "from keras.utils import plot_model\n",
    "#model.summary()\n",
    "#plot_model(model, show_shapes=True, show_layer_names=True, to_file='model.png')\n"
   ]
  },
  {
   "cell_type": "code",
   "execution_count": 9,
   "metadata": {},
   "outputs": [
    {
     "name": "stdout",
     "output_type": "stream",
     "text": [
      "_________________________________________________________________\n",
      "Layer (type)                 Output Shape              Param #   \n",
      "=================================================================\n",
      "conv2d_1 (Conv2D)            (None, 32, 32, 520)       5200      \n",
      "_________________________________________________________________\n",
      "conv2d_2 (Conv2D)            (None, 32, 32, 864)       4044384   \n",
      "_________________________________________________________________\n",
      "conv2d_3 (Conv2D)            (None, 32, 32, 928)       7217056   \n",
      "_________________________________________________________________\n",
      "max_pooling2d_1 (MaxPooling2 (None, 16, 16, 928)       0         \n",
      "_________________________________________________________________\n",
      "dropout_1 (Dropout)          (None, 16, 16, 928)       0         \n",
      "_________________________________________________________________\n",
      "flatten_1 (Flatten)          (None, 237568)            0         \n",
      "_________________________________________________________________\n",
      "dense_1 (Dense)              (None, 480)               114033120 \n",
      "_________________________________________________________________\n",
      "dense_2 (Dense)              (None, 2)                 962       \n",
      "=================================================================\n",
      "Total params: 125,300,722\n",
      "Trainable params: 125,300,722\n",
      "Non-trainable params: 0\n",
      "_________________________________________________________________\n"
     ]
    }
   ],
   "source": [
    "#参考：https://keras.io/ja/optimizers/\n",
    "#modelのコンパイル\n",
    "#loss:損失関数、optimaizer:最適化アルゴリスム、metrics:評価関数\n",
    "#RMSprop=RMSprop(lr=0.001, rho=0.9, epsilon=None, decay=0.0)\n",
    "model.compile(loss='categorical_crossentropy',\n",
    "              optimizer=optimizers.rmsprop(lr=1.659860443174783e-05),\n",
    "              metrics=['accuracy'])\n",
    "model.summary()"
   ]
  },
  {
   "cell_type": "code",
   "execution_count": 10,
   "metadata": {},
   "outputs": [
    {
     "name": "stdout",
     "output_type": "stream",
     "text": [
      "(10000, 32, 32, 1) (10000, 2)\n",
      "(2000, 32, 32, 1) (2000, 2)\n"
     ]
    }
   ],
   "source": [
    "###学習用のデータを作る###\n",
    "#numpy配列のデータ(image,label)#\n",
    "##########################\n",
    "\n",
    "###学習用のデータを作る###\n",
    "import os\n",
    "import numpy as np\n",
    "from PIL import Image\n",
    "from keras.utils.np_utils import to_categorical \n",
    "\n",
    "train_dir = '/home/tsato/work/machine_learning/CNN/images/1orbit/3-10keV_5000/train/'\n",
    "validation_dir = '/home/tsato/work/machine_learning/CNN/images/1orbit/3-10keV_5000/validation/'\n",
    "train_image_list = []\n",
    "train_label_list = []\n",
    "validation_image_list = []\n",
    "validation_label_list = []\n",
    "\n",
    "\n",
    "for dir in os.listdir(train_dir):\n",
    "    if dir == \".DS_Store\":\n",
    "        continue\n",
    "    \n",
    "    dir1 = train_dir + dir \n",
    "    label = 0\n",
    "    \n",
    "    if dir == \"background\":\n",
    "        label = 0\n",
    "    elif dir == \"flare\":\n",
    "        label = 1\n",
    "    \n",
    "    for file in os.listdir(dir1):\n",
    "        if file != \".DS_Store\":\n",
    "            # 配列label_listに正解ラベルを追加\n",
    "            train_label_list.append(label)\n",
    "            filepath = dir1 + \"/\" + file\n",
    "            # 画像を32x32pixelに変換し、グレースケール配列の32x32の２次元配列として読み込む。\n",
    "            image = np.array(Image.open(filepath).convert('L').resize((32, 32)))\n",
    "            #print(filepath)\n",
    "            # 出来上がった配列をimage_listに追加。\n",
    "            train_image_list.append(image / 255.)\n",
    "            \n",
    "for dir in os.listdir(validation_dir):\n",
    "    if dir == \".DS_Store\":\n",
    "        continue    \n",
    "    dir1 = validation_dir + dir \n",
    "    label = 0    \n",
    "    if dir == \"background\":\n",
    "        label = 0\n",
    "    elif dir == \"flare\":\n",
    "        label = 1    \n",
    "    for file in os.listdir(dir1):\n",
    "        if file != \".DS_Store\":\n",
    "            validation_label_list.append(label)\n",
    "            filepath = dir1 + \"/\" + file\n",
    "            image = np.array(Image.open(filepath).convert('L').resize((32, 32)))\n",
    "            validation_image_list.append(image / 255.)\n",
    "\n",
    "# kerasに渡すためにnumpy配列に変換。\n",
    "train_image_list = np.array(train_image_list)\n",
    "train_image_list = train_image_list.reshape(-1,32,32,1)\n",
    "validation_image_list = np.array(validation_image_list)\n",
    "validation_image_list = validation_image_list.reshape(-1,32,32,1)\n",
    "\n",
    "# ラベルの配列を1と0からなるラベル配列に変更\n",
    "train_Y = to_categorical(train_label_list)\n",
    "validation_Y = to_categorical(validation_label_list)\n",
    "\n",
    "######\n",
    "print(train_image_list.shape,train_Y.shape)\n",
    "print(validation_image_list.shape,validation_Y.shape)"
   ]
  },
  {
   "cell_type": "code",
   "execution_count": 11,
   "metadata": {
    "scrolled": false
   },
   "outputs": [
    {
     "name": "stdout",
     "output_type": "stream",
     "text": [
      "WARNING:tensorflow:From /home/tsato/anaconda3/envs/tensorflow/lib/python3.6/site-packages/tensorflow/python/ops/math_ops.py:3066: to_int32 (from tensorflow.python.ops.math_ops) is deprecated and will be removed in a future version.\n",
      "Instructions for updating:\n",
      "Use tf.cast instead.\n",
      "Train on 10000 samples, validate on 2000 samples\n",
      "Epoch 1/50\n",
      "10000/10000 [==============================] - 50s 5ms/step - loss: 0.1278 - acc: 0.9502 - val_loss: 0.0443 - val_acc: 0.9840\n",
      "\n",
      "Epoch 00001: val_loss improved from inf to 0.04427, saving model to ./model_.01-0.04.hdf5\n",
      "Epoch 2/50\n",
      "10000/10000 [==============================] - 45s 4ms/step - loss: 0.0619 - acc: 0.9761 - val_loss: 0.0728 - val_acc: 0.9715\n",
      "\n",
      "Epoch 00002: val_loss did not improve from 0.04427\n",
      "Epoch 3/50\n",
      "10000/10000 [==============================] - 44s 4ms/step - loss: 0.0554 - acc: 0.9795 - val_loss: 0.0477 - val_acc: 0.9800\n",
      "\n",
      "Epoch 00003: val_loss did not improve from 0.04427\n",
      "Epoch 4/50\n",
      "10000/10000 [==============================] - 45s 5ms/step - loss: 0.0488 - acc: 0.9827 - val_loss: 0.0443 - val_acc: 0.9870\n",
      "\n",
      "Epoch 00004: val_loss did not improve from 0.04427\n",
      "Epoch 5/50\n",
      "10000/10000 [==============================] - 45s 5ms/step - loss: 0.0450 - acc: 0.9845 - val_loss: 0.0394 - val_acc: 0.9865\n",
      "\n",
      "Epoch 00005: val_loss improved from 0.04427 to 0.03943, saving model to ./model_.05-0.04.hdf5\n",
      "Epoch 6/50\n",
      "10000/10000 [==============================] - 45s 4ms/step - loss: 0.0404 - acc: 0.9852 - val_loss: 0.0471 - val_acc: 0.9825\n",
      "\n",
      "Epoch 00006: val_loss did not improve from 0.03943\n",
      "Epoch 7/50\n",
      "10000/10000 [==============================] - 44s 4ms/step - loss: 0.0402 - acc: 0.9858 - val_loss: 0.0696 - val_acc: 0.9730\n",
      "\n",
      "Epoch 00007: val_loss did not improve from 0.03943\n",
      "Epoch 8/50\n",
      "10000/10000 [==============================] - 45s 4ms/step - loss: 0.0371 - acc: 0.9869 - val_loss: 0.0526 - val_acc: 0.9840\n",
      "\n",
      "Epoch 00008: val_loss did not improve from 0.03943\n",
      "Epoch 9/50\n",
      "10000/10000 [==============================] - 45s 4ms/step - loss: 0.0341 - acc: 0.9884 - val_loss: 0.0452 - val_acc: 0.9855\n",
      "\n",
      "Epoch 00009: val_loss did not improve from 0.03943\n",
      "Epoch 10/50\n",
      "10000/10000 [==============================] - 45s 4ms/step - loss: 0.0312 - acc: 0.9899 - val_loss: 0.1088 - val_acc: 0.9630\n",
      "\n",
      "Epoch 00010: val_loss did not improve from 0.03943\n",
      "Epoch 11/50\n",
      "10000/10000 [==============================] - 45s 4ms/step - loss: 0.0282 - acc: 0.9909 - val_loss: 0.1116 - val_acc: 0.9650\n",
      "\n",
      "Epoch 00011: val_loss did not improve from 0.03943\n",
      "Epoch 12/50\n",
      "10000/10000 [==============================] - 45s 5ms/step - loss: 0.0256 - acc: 0.9919 - val_loss: 0.0667 - val_acc: 0.9815\n",
      "\n",
      "Epoch 00012: val_loss did not improve from 0.03943\n",
      "Epoch 00012: early stopping\n"
     ]
    }
   ],
   "source": [
    "import keras\n",
    "from keras.callbacks import EarlyStopping,ModelCheckpoint\n",
    "\n",
    "es_cb = keras.callbacks.EarlyStopping(monitor='val_loss', patience=7, verbose=1, mode='auto')\n",
    "chkpt = os.path.join('./', 'model_.{epoch:02d}-{val_loss:.2f}.hdf5')\n",
    "cp_cb = ModelCheckpoint(filepath = chkpt, monitor='val_loss', verbose=1, save_best_only=True, mode='auto')\n",
    "\n",
    "history = model.fit(train_image_list,train_Y, verbose=1, epochs=50, batch_size=32, validation_data=(validation_image_list,validation_Y),callbacks=[es_cb,cp_cb])"
   ]
  },
  {
   "cell_type": "code",
   "execution_count": 13,
   "metadata": {},
   "outputs": [
    {
     "data": {
      "image/png": "[encoded data removed]",
      "text/plain": [
       "<Figure size 432x288 with 1 Axes>"
      ]
     },
     "metadata": {
      "needs_background": "light"
     },
     "output_type": "display_data"
    }
   ],
   "source": [
    "#学習軌跡の表示\n",
    "import numpy as np\n",
    "import matplotlib.pyplot as plt\n",
    "##Accuracy\n",
    "plt.plot(history.history['acc'])\n",
    "plt.plot(history.history['val_acc'])\n",
    "plt.title('model accuracy')\n",
    "plt.ylabel('accuracy')\n",
    "plt.xlabel('epoch')\n",
    "plt.legend(['train', 'test'], loc='upper left')\n",
    "plt.show()"
   ]
  },
  {
   "cell_type": "code",
   "execution_count": 14,
   "metadata": {},
   "outputs": [
    {
     "data": {
      "image/png": "[encoded data removed]",
      "text/plain": [
       "<Figure size 432x288 with 1 Axes>"
      ]
     },
     "metadata": {
      "needs_background": "light"
     },
     "output_type": "display_data"
    }
   ],
   "source": [
    "##loss\n",
    "plt.plot(history.history['loss'])\n",
    "plt.plot(history.history['val_loss'])\n",
    "plt.title('model loss')\n",
    "plt.ylabel('loss')\n",
    "plt.xlabel('epoch')\n",
    "plt.legend(['train', 'test'], loc='upper left')\n",
    "plt.show()"
   ]
  },
  {
   "cell_type": "code",
   "execution_count": null,
   "metadata": {},
   "outputs": [],
   "source": []
  }
 ],
 "metadata": {
  "kernelspec": {
   "display_name": "Python 3",
   "language": "python",
   "name": "python3"
  },
  "language_info": {
   "codemirror_mode": {
    "name": "ipython",
    "version": 3
   },
   "file_extension": ".py",
   "mimetype": "text/x-python",
   "name": "python",
   "nbconvert_exporter": "python",
   "pygments_lexer": "ipython3",
   "version": "3.6.8"
  }
 },
 "nbformat": 4,
 "nbformat_minor": 2
}

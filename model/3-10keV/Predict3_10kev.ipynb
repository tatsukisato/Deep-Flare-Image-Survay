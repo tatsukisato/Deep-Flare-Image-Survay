{
 "cells": [
  {
   "cell_type": "code",
   "execution_count": 1,
   "metadata": {},
   "outputs": [
    {
     "name": "stderr",
     "output_type": "stream",
     "text": [
      "Using TensorFlow backend.\n"
     ]
    }
   ],
   "source": [
    "import tensorflow as tf\n",
    "from keras.models import load_model\n",
    "import os\n",
    "from keras.preprocessing.image import img_to_array, load_img\n",
    "from keras.models import load_model\n",
    "import numpy as np\n",
    "from PIL import Image\n",
    "import pandas as pd\n",
    "pd.set_option('display.max_rows', 500)\n",
    "\n",
    "from keras import backend as K\n",
    "K.clear_session()\n",
    "config = tf.ConfigProto(gpu_options=tf.GPUOptions(allow_growth=True))\n",
    "sess = tf.Session(config=config)\n",
    "K.set_session(sess)"
   ]
  },
  {
   "cell_type": "code",
   "execution_count": 2,
   "metadata": {},
   "outputs": [
    {
     "name": "stdout",
     "output_type": "stream",
     "text": [
      "WARNING:tensorflow:From /home/tsato/anaconda3/envs/tensorflow/lib/python3.6/site-packages/tensorflow/python/framework/op_def_library.py:263: colocate_with (from tensorflow.python.framework.ops) is deprecated and will be removed in a future version.\n",
      "Instructions for updating:\n",
      "Colocations handled automatically by placer.\n",
      "WARNING:tensorflow:From /home/tsato/anaconda3/envs/tensorflow/lib/python3.6/site-packages/keras/backend/tensorflow_backend.py:3445: calling dropout (from tensorflow.python.ops.nn_ops) with keep_prob is deprecated and will be removed in a future version.\n",
      "Instructions for updating:\n",
      "Please use `rate` instead of `keep_prob`. Rate should be set to `rate = 1 - keep_prob`.\n",
      "WARNING:tensorflow:From /home/tsato/anaconda3/envs/tensorflow/lib/python3.6/site-packages/tensorflow/python/ops/math_ops.py:3066: to_int32 (from tensorflow.python.ops.math_ops) is deprecated and will be removed in a future version.\n",
      "Instructions for updating:\n",
      "Use tf.cast instead.\n",
      "_________________________________________________________________\n",
      "Layer (type)                 Output Shape              Param #   \n",
      "=================================================================\n",
      "conv2d_1 (Conv2D)            (None, 32, 32, 520)       5200      \n",
      "_________________________________________________________________\n",
      "conv2d_2 (Conv2D)            (None, 32, 32, 864)       4044384   \n",
      "_________________________________________________________________\n",
      "conv2d_3 (Conv2D)            (None, 32, 32, 928)       7217056   \n",
      "_________________________________________________________________\n",
      "max_pooling2d_1 (MaxPooling2 (None, 16, 16, 928)       0         \n",
      "_________________________________________________________________\n",
      "dropout_1 (Dropout)          (None, 16, 16, 928)       0         \n",
      "_________________________________________________________________\n",
      "flatten_1 (Flatten)          (None, 237568)            0         \n",
      "_________________________________________________________________\n",
      "dense_1 (Dense)              (None, 480)               114033120 \n",
      "_________________________________________________________________\n",
      "dense_2 (Dense)              (None, 2)                 962       \n",
      "=================================================================\n",
      "Total params: 125,300,722\n",
      "Trainable params: 125,300,722\n",
      "Non-trainable params: 0\n",
      "_________________________________________________________________\n"
     ]
    }
   ],
   "source": [
    "#学習済みモデルの読込\n",
    "model_file_name='./model_.05-0.04.hdf5'\n",
    "model=load_model(model_file_name)\n",
    "model.summary()"
   ]
  },
  {
   "cell_type": "code",
   "execution_count": 3,
   "metadata": {},
   "outputs": [
    {
     "name": "stdout",
     "output_type": "stream",
     "text": [
      "predict directory:\n",
      ">>> /home/tsato/work/machine_learning/CNN/Deep-Flare-Image-Survay/Data_Generation/InputImage\n",
      "1orbit:61\n"
     ]
    }
   ],
   "source": [
    "#推測するディレクトリーを指定\n",
    "#print('target name:')\n",
    "#print(os.listdir('../../images/1orbit/3-10keV/test/'))\n",
    "#TARGET_DIR = input('>>> ')\n",
    "#print('predict directory:')\n",
    "#print(os.listdir('../../images/1orbit/3-10keV/test'+'/' + TARGET_DIR+'/'))\n",
    "#IMAGE_DIR = input('>>> ')\n",
    "#images = os.listdir('../../images/1orbit/3-10keV/test/'+TARGET_DIR+'/'+IMAGE_DIR)\n",
    "#TextName = TARGET_DIR + \"_\" +IMAGE_DIR + \"_\" +'1orb.txt'\n",
    "\n",
    "print('predict directory:')\n",
    "IMAGE_DIR = input('>>> ')\n",
    "images = os.listdir(IMAGE_DIR)\n",
    "\n",
    "#print(\"1orbit:\" + str(len(images)))"
   ]
  },
  {
   "cell_type": "code",
   "execution_count": 4,
   "metadata": {
    "scrolled": true
   },
   "outputs": [],
   "source": [
    "#val以上の評価\n",
    "df = []\n",
    "for jpeg_name in images:\n",
    "    img_path = (jpeg_name)\n",
    "    img = img_to_array(load_img(IMAGE_DIR + '/' + img_path, target_size=(32,32)).convert('L'))\n",
    "    img_nad = img_to_array(img)/255\t    #0-1に変換\n",
    "    img_nad = img_nad[None, ...]\t    #四次元配列に\n",
    "    label=['background','flare']\n",
    "    pred = model.predict(img_nad, batch_size=1, verbose=0)\n",
    "    score = np.max(pred)\n",
    "    pred_label = label[np.argmax(pred[0])]\n",
    "    val = 0.99\n",
    "    if score > val and pred_label == \"flare\":\n",
    "        #print (jpeg_name)\n",
    "        #print('name:',pred_label)\n",
    "        #print('score:',score)\n",
    "        #print('\\n')\n",
    "        a=jpeg_name.split(\"_\")\n",
    "        list=[int(a[0]),jpeg_name,score]     \n",
    "        df.append(list)\n",
    "        #df = df.to_csv(jpeg_name,mode='a')\n",
    "result = pd.DataFrame(df)\n",
    "result = result.sort_values([0])\n",
    "result = result.reset_index(drop=True)\n",
    "result = result.iloc[:,1:3]\n",
    "print(result)"
   ]
  }
 ],
 "metadata": {
  "kernelspec": {
   "display_name": "Python 3",
   "language": "python",
   "name": "python3"
  },
  "language_info": {
   "codemirror_mode": {
    "name": "ipython",
    "version": 3
   },
   "file_extension": ".py",
   "mimetype": "text/x-python",
   "name": "python",
   "nbconvert_exporter": "python",
   "pygments_lexer": "ipython3",
   "version": "3.6.8"
  }
 },
 "nbformat": 4,
 "nbformat_minor": 2
}
